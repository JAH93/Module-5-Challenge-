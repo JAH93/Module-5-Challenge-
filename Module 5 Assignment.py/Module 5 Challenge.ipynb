{
 "cells": [
  {
   "cell_type": "code",
   "execution_count": 2,
   "metadata": {},
   "outputs": [
    {
     "ename": "NameError",
     "evalue": "name 'Mouse_metadata' is not defined",
     "output_type": "error",
     "traceback": [
      "\u001b[1;31m---------------------------------------------------------------------------\u001b[0m",
      "\u001b[1;31mNameError\u001b[0m                                 Traceback (most recent call last)",
      "\u001b[1;32mc:\\Users\\Jorge Hernandez\\OneDrive\\Desktop\\data class\\Module-5-Challenge-\\Module 5 Assignment.py\\Module 5 Challenge.ipynb Cell 1\u001b[0m in \u001b[0;36m<cell line: 7>\u001b[1;34m()\u001b[0m\n\u001b[0;32m      <a href='vscode-notebook-cell:/c%3A/Users/Jorge%20Hernandez/OneDrive/Desktop/data%20class/Module-5-Challenge-/Module%205%20Assignment.py/Module%205%20Challenge.ipynb#W0sZmlsZQ%3D%3D?line=3'>4</a>\u001b[0m \u001b[39mimport\u001b[39;00m \u001b[39mscipy\u001b[39;00m\u001b[39m.\u001b[39;00m\u001b[39mstats\u001b[39;00m \u001b[39mas\u001b[39;00m \u001b[39mst\u001b[39;00m\n\u001b[0;32m      <a href='vscode-notebook-cell:/c%3A/Users/Jorge%20Hernandez/OneDrive/Desktop/data%20class/Module-5-Challenge-/Module%205%20Assignment.py/Module%205%20Challenge.ipynb#W0sZmlsZQ%3D%3D?line=5'>6</a>\u001b[0m \u001b[39m# Study data files\u001b[39;00m\n\u001b[1;32m----> <a href='vscode-notebook-cell:/c%3A/Users/Jorge%20Hernandez/OneDrive/Desktop/data%20class/Module-5-Challenge-/Module%205%20Assignment.py/Module%205%20Challenge.ipynb#W0sZmlsZQ%3D%3D?line=6'>7</a>\u001b[0m mouse_metadata_path \u001b[39m=\u001b[39m Mouse_metadata\u001b[39m.\u001b[39mcsv\n\u001b[0;32m      <a href='vscode-notebook-cell:/c%3A/Users/Jorge%20Hernandez/OneDrive/Desktop/data%20class/Module-5-Challenge-/Module%205%20Assignment.py/Module%205%20Challenge.ipynb#W0sZmlsZQ%3D%3D?line=7'>8</a>\u001b[0m study_results_path \u001b[39m=\u001b[39m Study_results\u001b[39m.\u001b[39mcsv\n\u001b[0;32m     <a href='vscode-notebook-cell:/c%3A/Users/Jorge%20Hernandez/OneDrive/Desktop/data%20class/Module-5-Challenge-/Module%205%20Assignment.py/Module%205%20Challenge.ipynb#W0sZmlsZQ%3D%3D?line=9'>10</a>\u001b[0m \u001b[39m# Read the mouse data and the study results\u001b[39;00m\n",
      "\u001b[1;31mNameError\u001b[0m: name 'Mouse_metadata' is not defined"
     ]
    }
   ],
   "source": [
    "# Dependencies and Setup\n",
    "import matplotlib.pyplot as plt\n",
    "import pandas as pd\n",
    "import scipy.stats as st\n",
    "\n",
    "# Study data files\n",
    "mouse_metadata_path = Mouse_metadata.csv\n",
    "study_results_path = Study_results.csv\n",
    "\n",
    "# Read the mouse data and the study results\n",
    "mouse_metadata = pd.read_csv(mouse_metadata_path)\n",
    "study_results = pd.read_csv(study_results_path)"
   ]
  }
 ],
 "metadata": {
  "kernelspec": {
   "display_name": "Python 3.9.12 ('base')",
   "language": "python",
   "name": "python3"
  },
  "language_info": {
   "codemirror_mode": {
    "name": "ipython",
    "version": 3
   },
   "file_extension": ".py",
   "mimetype": "text/x-python",
   "name": "python",
   "nbconvert_exporter": "python",
   "pygments_lexer": "ipython3",
   "version": "3.9.12"
  },
  "orig_nbformat": 4,
  "vscode": {
   "interpreter": {
    "hash": "0ca0dee55df0397604781f27d1fd0335fa3dc442438c70a72cccd73ee038f5f1"
   }
  }
 },
 "nbformat": 4,
 "nbformat_minor": 2
}
